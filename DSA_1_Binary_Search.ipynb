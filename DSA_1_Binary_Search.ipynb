{
  "nbformat": 4,
  "nbformat_minor": 0,
  "metadata": {
    "colab": {
      "name": "DSA-1 Binary Search.ipynb",
      "provenance": [],
      "collapsed_sections": [
        "ySCOS6Efhze9",
        "5zmBZHRih7x6",
        "y1BkC2KylYkI",
        "rgb0UEZ_lSWf",
        "ydsQYQAviYF4",
        "UFVdHZx0ihJB",
        "_f6watNzjVPm",
        "o9JVU0-usxS2"
      ],
      "authorship_tag": "ABX9TyPE2JiOWlCSlH6EFGNAQftj",
      "include_colab_link": true
    },
    "kernelspec": {
      "name": "python3",
      "display_name": "Python 3"
    },
    "language_info": {
      "name": "python"
    }
  },
  "cells": [
    {
      "cell_type": "markdown",
      "metadata": {
        "id": "view-in-github",
        "colab_type": "text"
      },
      "source": [
        "<a href=\"https://colab.research.google.com/github/pulkitkhanna1/3DMeat/blob/main/DSA_1_Binary_Search.ipynb\" target=\"_parent\"><img src=\"https://colab.research.google.com/assets/colab-badge.svg\" alt=\"Open In Colab\"/></a>"
      ]
    },
    {
      "cell_type": "markdown",
      "source": [
        "# Introduction to Binary Search and Complexity Analysis with Python\n",
        "\n",
        "### Part 1 of \"Data Structures and Algorithms in Python\"\n",
        "\n",
        "Data Structures and Algorithms in Python is beginner-friendly introduction to common data structures (linked lists, stacks, queues, graphs) and algorithms (search, sorting, recursion, dynamic programming) in Python, designed to help you prepare for coding interviews and assessments. Check out the topics we will cover:\n",
        "\n",
        "1. Binary Search and Complexity Analysis <font color='red'>( You Are Here )</font>\n",
        "2. Python Classes and Linked Lists\n",
        "3. Arrays, Stacks, Queues and Strings \n",
        "4. Binary Search Trees and Hash Tables \n",
        "5. Insertion Sort, Merge Sort and Divide-and-Conquer \n",
        "6. Quicksort, Partitions and Average-case Complexity \n",
        "7. Recursion, Backtracking and Dynamic Programming \n",
        "8. Knapsack, Subsequence and Matrix Problems \n",
        "9. Graphs, Breadth-First Search and Depth-First Search \n",
        "10. Shortest Paths, Spanning Trees & Topological Sorting \n",
        "11. Disjoint Sets and the Union Find Algorithm \n",
        "12. Interview Questions, Tips & Practical Advice \n",
        "\n"
      ],
      "metadata": {
        "id": "HqCugTsBhsap"
      }
    },
    {
      "cell_type": "markdown",
      "source": [
        "### Prerequisites\n",
        "\n",
        "This course assumes very little background in programming and mathematics, and you can learn the required concepts here:\n",
        "\n",
        "- Basic programming with Python (variables, data types, loops, functionsetc.)\n",
        "- Some high school mathematics (polynomials, vectors, matrices and probability)\n",
        "- No prior knowledge of data structures or algorithms is required\n",
        "\n",
        "We'll cover any additional mathematical and theoretical concepts we need as we go along.\n",
        "\n"
      ],
      "metadata": {
        "id": "ySCOS6Efhze9"
      }
    },
    {
      "cell_type": "markdown",
      "source": [
        "## How to Run the Code\n",
        "\n",
        "The best way to learn the material is to execute the code and experiment with it yourself. This tutorial is an executable [Jupyter notebook](https://jupyter.org). You can _run_ this tutorial and experiment with the code examples in a couple of ways: *using free online resources* (recommended) or *on your computer*.\n",
        "\n",
        "\n",
        "\n",
        "The easiest way to start executing the code is to click the **Run** button at the top of this page and select **Run on Binder**. You can also select \"Run on Colab\" or \"Run on Kaggle\", but you'll need to create an account on [Google Colab](https://colab.research.google.com) or [Kaggle](https://kaggle.com) to use these platforms.\n",
        "\n",
        "\n",
        "#### Option 2: Running on your computer locally\n",
        "\n",
        "To run the code on your computer locally, you'll need to set up [Python](https://www.python.org), download the notebook and install the required libraries. We recommend using the [Conda](https://docs.conda.io/projects/conda/en/latest/user-guide/install/) distribution of Python. Click the **Run** button at the top of this page, select the **Run Locally** option, and follow the instructions.\n",
        "\n",
        ">  **Jupyter Notebooks**: This notebook is made of _cells_. Each cell can contain code written in Python or explanations in plain English. You can execute code cells and view the results instantly within the notebook. Jupyter is a powerful platform for experimentation and analysis. Don't be afraid to mess around with the code & break things - you'll learn a lot by encountering and fixing errors. You can use the \"Kernel > Restart & Clear Output\" menu option to clear all outputs and start again from the top.\n",
        "\n",
        "Try executing the cells below to check if everything is going good:"
      ],
      "metadata": {
        "id": "5zmBZHRih7x6"
      }
    },
    {
      "cell_type": "code",
      "source": [
        "# Import a library module\n",
        "import math"
      ],
      "metadata": {
        "id": "smJn72QLhzIS"
      },
      "execution_count": null,
      "outputs": []
    },
    {
      "cell_type": "code",
      "source": [
        "math.sqrt(49) #expected output is 7.0"
      ],
      "metadata": {
        "colab": {
          "base_uri": "https://localhost:8080/"
        },
        "id": "_dw8mMKjiIPU",
        "outputId": "2d73d289-5457-4e48-9fd4-76c7dee55b66"
      },
      "execution_count": null,
      "outputs": [
        {
          "output_type": "execute_result",
          "data": {
            "text/plain": [
              "7.0"
            ]
          },
          "metadata": {},
          "execution_count": 99
        }
      ]
    },
    {
      "cell_type": "markdown",
      "source": [
        "##<font color='red'>Let us Consider a Problem Statement</font>"
      ],
      "metadata": {
        "id": "y1BkC2KylYkI"
      }
    },
    {
      "cell_type": "markdown",
      "source": [
        "## Problem \n",
        "\n",
        "This course takes a coding-focused approach towards learning. In each notebook, we'll focus on solving one problem, and learn the techniques, algorithms, and data structures to devise an *efficient* solution. We will then generalize the technique and apply it to other problems.\n",
        "\n",
        "\n",
        "\n",
        "In this notebook, we focus on solving the following problem:\n",
        "\n",
        "> **QUESTION 1:** Raju has some cards with numbers written on them. She arranges the cards in decreasing order, and lays them out face down in a sequence on a table. She challenges Shyam to pick out the card containing a given number by turning over as few cards as possible. Write a function to help Shyam locate the card.\n",
        "\n",
        "<img src=\"https://i.imgur.com/mazym6s.png\" width=\"480\">\n",
        "\n",
        "This may seem like a simple problem, especially if you're familiar with the concept of _binary search_, but the strategy and technique we learning here will be widely applicable, and we'll soon use it to solve harder problems."
      ],
      "metadata": {
        "id": "rgb0UEZ_lSWf"
      }
    },
    {
      "cell_type": "markdown",
      "source": [
        "## Why You Should Learn Data Structures and Algorithms\n",
        "\n",
        "Whether you're pursuing a career in software development or data science, it's almost certain that you'll be asked to solve programming problems like *reversing a linked list* or *balancing a binary tree* in a technical interview or coding assessment.\n",
        "\n",
        "It's well known, however, that you will almost never face these problems in your job as a software developer. So it's reasonable to wonder why such problems are asked in interviews and coding assessments. Solving programming problems demonstrates the following traits:\n",
        "\n",
        "1. You can **think about a problem systematically** and solve it systematically step-by-step.\n",
        "2. You can **envision different inputs, outputs, and edge cases** for programs you write.\n",
        "3. You can **communicate your ideas clearly** to co-workers and incorporate their suggestions.\n",
        "4. Most importantly, you can **convert your thoughts and ideas into working code** that's also readable.\n",
        "\n",
        "It's not your knowledge of specific data structures or algorithms that's tested in an interview, but your approach towards the problem. You may fail to solve the problem and still clear the interview or vice versa. In this course, you will learn the skills to both solve problems and clear interviews successfully.\n"
      ],
      "metadata": {
        "id": "ydsQYQAviYF4"
      }
    },
    {
      "cell_type": "markdown",
      "source": [
        "## The Method\n",
        "\n",
        "Upon reading the problem, you may get some ideas on how to solve it and your first instinct might be to start writing code. This is not the optimal strategy and you may end up spending a longer time trying to solve the problem due to coding errors, or may not be able to solve it at all.\n",
        "\n",
        "Here's a systematic strategy we'll apply for solving problems:\n",
        "\n",
        "1. State the problem clearly. Identify the input & output formats.\n",
        "2. Come up with some example inputs & outputs. Try to cover all edge cases.\n",
        "3. Come up with a correct solution for the problem. State it in plain English.\n",
        "4. Implement the solution and test it using example inputs. Fix bugs, if any.\n",
        "5. Analyze the algorithm's complexity and identify inefficiencies, if any.\n",
        "6. Apply the right technique to overcome the inefficiency. Repeat steps 3 to 6.\n",
        "\n",
        "_\"Applying the right technique\"_ is where the knowledge of common data structures and algorithms comes in handy. \n"
      ],
      "metadata": {
        "id": "UFVdHZx0ihJB"
      }
    },
    {
      "cell_type": "markdown",
      "source": [
        "##<font color='blue'>Solution</font>\n",
        "\n",
        "\n",
        "### 1. State the problem clearly. Identify the input & output formats.\n",
        "\n",
        "You will often encounter detailed word problems in coding challenges and interviews. The first step is to state the problem clearly and precisely in abstract terms. \n",
        "\n",
        "<img src=\"https://i.imgur.com/mazym6s.png\" width=\"480\">\n",
        "\n",
        "In this case, for instance, we can represent the sequence of cards as a list of numbers. Turning over a specific card is equivalent to accessing the value of the number at the corresponding position the list. \n",
        "\n",
        "<img src=\"https://i.imgur.com/G9fBarb.png\" width=\"600\">\n",
        "\n",
        "The problem can now be stated as follows:\n",
        "\n",
        "#### Problem\n",
        "\n",
        "> We need to write a program to find the position of a given number in a list of numbers arranged in decreasing order. We also need to minimize the number of times we access elements from the list.\n",
        "\n",
        "#### Input\n",
        "\n",
        "1. `cards`: A list of numbers sorted in decreasing order. E.g. `[13, 11, 10, 7, 4, 3, 1, 0]`\n",
        "2. `query`: A number, whose position in the array is to be determined. E.g. `7`\n",
        "\n",
        "#### Output\n",
        "\n",
        "3. `position`: The position of `query` in the list `cards`. E.g. `3` in the above case (counting from `0`)\n",
        "\n",
        "\n",
        "\n",
        "Based on the above, we can now create the signature of our function:\n"
      ],
      "metadata": {
        "id": "_f6watNzjVPm"
      }
    },
    {
      "cell_type": "code",
      "source": [
        "def locate_card(cards, query): # framing the function\n",
        "    pass # pass is used just coz function cannot be empty"
      ],
      "metadata": {
        "id": "P3VDM29niXzq"
      },
      "execution_count": null,
      "outputs": []
    },
    {
      "cell_type": "markdown",
      "source": [
        "**Tips**:\n",
        "\n",
        "* Name your function appropriately and think carefully about the signature\n",
        "* Discuss the problem with the interviewer if you are unsure how to frame it in abstract terms\n",
        "* Use descriptive variable names, otherwise you may forget what a variable represents\n",
        "\n"
      ],
      "metadata": {
        "id": "WIQqZKKijvF_"
      }
    },
    {
      "cell_type": "markdown",
      "source": [
        "##<font color='green'>2. Here's the test case described in the example above."
      ],
      "metadata": {
        "id": "DV8xw0SVj2KF"
      }
    },
    {
      "cell_type": "markdown",
      "source": [
        "### Come up with some example inputs & outputs. Try to cover all edge cases."
      ],
      "metadata": {
        "id": "80byLKcqmSr2"
      }
    },
    {
      "cell_type": "code",
      "source": [
        "cards = [13, 11, 10, 7, 4, 3, 1, 0] #we've taken only one,practice with more test cases\n",
        "query = 7\n",
        "output = 3  #index of the query"
      ],
      "metadata": {
        "id": "ZFhiQQVYi0Dp"
      },
      "execution_count": null,
      "outputs": []
    },
    {
      "cell_type": "code",
      "source": [
        "result=locate_card(cards,query)\n",
        "print(result) #result is \"none\" coz our function is still empty."
      ],
      "metadata": {
        "colab": {
          "base_uri": "https://localhost:8080/"
        },
        "id": "p3PQL31Ui0AD",
        "outputId": "d51ef2bc-d2fa-416c-c1d1-ff2916d0cd0c"
      },
      "execution_count": null,
      "outputs": [
        {
          "output_type": "stream",
          "name": "stdout",
          "text": [
            "None\n"
          ]
        }
      ]
    },
    {
      "cell_type": "code",
      "source": [
        "result==output #False bcoz function is still empty."
      ],
      "metadata": {
        "colab": {
          "base_uri": "https://localhost:8080/"
        },
        "id": "3qbjsceCizzB",
        "outputId": "356c7b17-9e0d-40a0-c13e-4b156c0c2fe8"
      },
      "execution_count": null,
      "outputs": [
        {
          "output_type": "execute_result",
          "data": {
            "text/plain": [
              "False"
            ]
          },
          "metadata": {},
          "execution_count": 103
        }
      ]
    },
    {
      "cell_type": "markdown",
      "source": [
        "Our function should be able to handle any set of valid inputs we pass into it. Here's a list of some possible variations we might encounter:\n",
        "\n",
        "1. The number `query` occurs somewhere in the middle of the list `cards`.<font color='red'>General expected input</font>\n",
        "2. `query` is the first element in `cards`.\n",
        "3. `query` is the last element in `cards`.\n",
        "4. The list `cards` contains just one element, which is `query`.\n",
        "5. The list `cards` does not contain number `query`.<font color='red'>Bluff</font>\n",
        "6. The list `cards` is empty.\n",
        "7. The list `cards` contains repeating numbers.<font color='red'>Repeating digits</font>\n",
        "8. The number `query` occurs at more than one position in `cards`.\n",
        "9. (can you think of any more variations?)\n",
        "<br>\n",
        "\n",
        "**Edge Cases**:<font color='green'>\n",
        " It's likely that you didn't think of all of the above cases when you read the problem for the first time. Some of these (like the empty array or `query` not occurring in `cards`) are called *edge cases*, as they represent rare or extreme examples. \n",
        "</font>\n",
        "\n",
        "While edge cases may not occur frequently, your programs should be able to handle all edge cases, otherwise they may fail in unexpected ways. Let's create some more test cases for the variations listed above. We'll store all our test cases in an list for easier testing."
      ],
      "metadata": {
        "id": "_b0XgvTTnRDC"
      }
    },
    {
      "cell_type": "code",
      "source": [
        "test_cases = []"
      ],
      "metadata": {
        "id": "UNg4mkPvoikE"
      },
      "execution_count": null,
      "outputs": []
    },
    {
      "cell_type": "code",
      "source": [
        "#we will use this as our primary test case when verifying the algorithm\n",
        "\n",
        "test= [13, 11, 10, 7, 4, 3, 1, 0]\n",
        "query= 7"
      ],
      "metadata": {
        "id": "bWhXok6ywpP-"
      },
      "execution_count": null,
      "outputs": []
    },
    {
      "cell_type": "code",
      "source": [
        "#case 1\n",
        "# query occurs perfectly in the middle\n",
        "\n",
        "cards1 = [11, 10, 7, 4, 3, 1, 0]\n",
        "query1 = 4"
      ],
      "metadata": {
        "id": "m54WDVppo3Uc"
      },
      "execution_count": null,
      "outputs": []
    },
    {
      "cell_type": "code",
      "source": [
        "#case 2\n",
        "# query is the first element\n",
        "\n",
        "cards2 = [4, 2, 1, -1]\n",
        "query2 = 4"
      ],
      "metadata": {
        "id": "iS6pTeIUpC6G"
      },
      "execution_count": null,
      "outputs": []
    },
    {
      "cell_type": "code",
      "source": [
        "#case 3\n",
        "# query is the last element\n",
        "\n",
        "cards3= [4, 2, 1, -1, 6],\n",
        "query3= 6"
      ],
      "metadata": {
        "id": "xHkqonqxpmw1"
      },
      "execution_count": null,
      "outputs": []
    },
    {
      "cell_type": "code",
      "source": [
        "#case 4\n",
        "# query is the only element in the list cards\n",
        "\n",
        "cards4 = [6]\n",
        "query4 = 6"
      ],
      "metadata": {
        "id": "wVLM7ciVpySn"
      },
      "execution_count": null,
      "outputs": []
    },
    {
      "cell_type": "markdown",
      "source": [
        " The problem statement does not specify what to do if the list `cards` does not contain the number `query`. \n",
        "\n",
        "1. Read the problem statement again, carefully.\n",
        "2. Look through the examples provided with the problem.\n",
        "3. Ask the interviewer/platform for a clarification.\n",
        "4. Make a reasonable assumption, state it and move forward.\n",
        "\n",
        "We will assume that our function will return `-1` in case `cards` does not contain `query`."
      ],
      "metadata": {
        "id": "a4TquwQUpFG6"
      }
    },
    {
      "cell_type": "code",
      "source": [
        "#case 5\n",
        "# query is not present in the list cards\n",
        "\n",
        "cards5= [6, 4, 7, -1, 5]\n",
        "query5=3\n",
        "\n",
        "#here outpout should be -1"
      ],
      "metadata": {
        "id": "cOJgx7nlp5m0"
      },
      "execution_count": null,
      "outputs": []
    },
    {
      "cell_type": "code",
      "source": [
        "#case 6\n",
        "# cards is empty\n",
        "\n",
        "cards6= []\n",
        "query6 = 3\n",
        "\n",
        "#here outpout should be -1"
      ],
      "metadata": {
        "id": "hWE2g60mqG7K"
      },
      "execution_count": null,
      "outputs": []
    },
    {
      "cell_type": "code",
      "source": [
        "#case 7\n",
        "# number can repeat in cards but query does not\n",
        "\n",
        "cards7 = [6, 6, 4, 4, 4, 7, 3, 7, -1, 5, 0, 0],\n",
        "query7 = 3"
      ],
      "metadata": {
        "id": "4d84uOiCqy66"
      },
      "execution_count": null,
      "outputs": []
    },
    {
      "cell_type": "code",
      "source": [
        "#case 8\n",
        "# query occurs multiple times\n",
        "\n",
        "cards8 = [6, 6, 4, 4, 4, 7, 3, 7, -1, 5, 0, 0]\n",
        "query8 = 4"
      ],
      "metadata": {
        "id": "lD0Ku_VxrRBu"
      },
      "execution_count": null,
      "outputs": []
    },
    {
      "cell_type": "markdown",
      "source": [
        "<font color='brown'>No need to give these many test cases in an interview,but a couple will surely impress the interviewer."
      ],
      "metadata": {
        "id": "QtZIRb2zr9BF"
      }
    },
    {
      "cell_type": "markdown",
      "source": [
        "\n",
        "Creating test cases beforehand allows you to identify different variations and edge cases in advance so that can make sure to handle them while writing code. Sometimes, you may start out confused,<b> but the solution will reveal itself as you try to come up with interesting test cases.</b>\n",
        "\n",
        "\n",
        "**Tip:** Don't stress it if you can't come up with an exhaustive list of test cases though. You can come back to this section and add more test cases as you discover them. Coming up with good test cases is a skill that takes practice.\n",
        "\n"
      ],
      "metadata": {
        "id": "P5p-tfnPsfTh"
      }
    },
    {
      "cell_type": "markdown",
      "source": [
        "##3. Come up with a correct solution for the problem. State it in plain English.\n",
        "\n",
        "Our first goal should always be to come up with a _correct_ solution to the problem, which may necessarily be the most _efficient_ solution. The simplest or most obvious solution to a problem, which generally involves checking all possible answers is called the _brute force_ solution.\n",
        "\n",
        "In this problem, coming up with a correct solution is quite easy: Bob can simply turn over cards in order one by one, till he find a card with the given number on it. Here's how we might implement it:\n",
        "\n",
        "1. Create a variable `position` with the value 0.\n",
        "3. Check whether the number at index `position` in `card` equals `query`.\n",
        "4. If it does, `position` is the answer and can be returned from the function\n",
        "5. If not, increment the value of `position` by 1, and repeat steps 2 to 5 till we reach the last position.\n",
        "6. If the number was not found, return `-1`.\n",
        "\n",
        "> **Linear Search Algorithm**: Congratulations, we've just written our first _algorithm_! An algorithm is simply a list of statements which can be converted into code and executed by a computer on different sets of inputs. This particular algorithm is called linear search, since it involves searching through a list in a linear fashion i.e. element after element.\n",
        "\n",
        "\n",
        "**Tip:** Always try to express (speak or write) the algorithm in your own words before you start coding. It can be as brief or detailed as you require it to be. Writing is a great tool for thinking clearly. It's likely that you will find some parts of the solution difficult to express, which suggests that you are probably unable to think about it clearly. The more clearly you are able to express your thoughts, the easier it will be for you to turn into code."
      ],
      "metadata": {
        "id": "o9JVU0-usxS2"
      }
    },
    {
      "cell_type": "markdown",
      "source": [
        "**An interview is a healthy discussion,state your algorithm to the interviewer so that He/She gets an idea that you have aplan in your mind and might even help at places**"
      ],
      "metadata": {
        "id": "hdWLFKCStL1z"
      }
    },
    {
      "cell_type": "markdown",
      "source": [
        "# **4. Implement the solution and test it using example inputs.**\n",
        "\n",
        "\n",
        "Here's a first attempt at implementing the function."
      ],
      "metadata": {
        "id": "PCve5ErIt9SF"
      }
    },
    {
      "cell_type": "code",
      "source": [
        "print(\"algorithm to search an element in a list\")\n",
        "\n",
        "def locate_card(cards,query):\n",
        "  #create a variable position set to 0\n",
        "  position=0\n",
        "\n",
        "  #loop to repeat till output\n",
        "  while True: # True with a capital 'T'\n",
        "    \n",
        "    #check for postion 0 i.e. case 2\n",
        "    if cards[position]==query:\n",
        "      \n",
        "      #found the answer,return and quit\n",
        "      return position\n",
        "    \n",
        "    #if not found,change position to index 1\n",
        "    position += 1\n",
        "\n",
        "    #check for the end of list\n",
        "    if position == len(cards):\n",
        "      return -1"
      ],
      "metadata": {
        "colab": {
          "base_uri": "https://localhost:8080/"
        },
        "id": "Jw11pQDRuGfZ",
        "outputId": "343c4569-ce96-49cd-b1d0-48d68c71cc8f"
      },
      "execution_count": null,
      "outputs": [
        {
          "output_type": "stream",
          "name": "stdout",
          "text": [
            "algorithm to search an element in a list\n"
          ]
        }
      ]
    },
    {
      "cell_type": "code",
      "source": [
        "test #the case from our problem image"
      ],
      "metadata": {
        "colab": {
          "base_uri": "https://localhost:8080/"
        },
        "id": "6M5PgpMcv2pf",
        "outputId": "7121750f-63af-4bdd-d64d-07d09d8f93f1"
      },
      "execution_count": null,
      "outputs": [
        {
          "output_type": "execute_result",
          "data": {
            "text/plain": [
              "[13, 11, 10, 7, 4, 3, 1, 0]"
            ]
          },
          "metadata": {},
          "execution_count": 115
        }
      ]
    },
    {
      "cell_type": "markdown",
      "source": [
        "**Test with the test case**"
      ],
      "metadata": {
        "id": "ssiu70Ewx9OZ"
      }
    },
    {
      "cell_type": "code",
      "source": [
        "print(test)\n",
        "print(query)\n",
        "result=locate_card(test,query) #here query is 7\n",
        "print('index of query in test is',result) #expected output is 3"
      ],
      "metadata": {
        "colab": {
          "base_uri": "https://localhost:8080/"
        },
        "id": "NTdvKX5yx87J",
        "outputId": "0b7983cc-5c82-4b57-cd0c-abeb5b02fb55"
      },
      "execution_count": null,
      "outputs": [
        {
          "output_type": "stream",
          "name": "stdout",
          "text": [
            "[13, 11, 10, 7, 4, 3, 1, 0]\n",
            "7\n",
            "index of query in test is 3\n"
          ]
        }
      ]
    },
    {
      "cell_type": "code",
      "source": [
        "#check the result manually\n"
      ],
      "metadata": {
        "id": "71Fj5ldiyiv_"
      },
      "execution_count": null,
      "outputs": []
    },
    {
      "cell_type": "markdown",
      "source": [
        "function to test all other test cases\n"
      ],
      "metadata": {
        "id": "qFwilKQ40ZWV"
      }
    },
    {
      "cell_type": "code",
      "source": [
        "\n",
        "#try to find an error in the code (hint - case6)\n",
        "\n",
        "def locate_card(cards, query): \n",
        "    position = 0\n",
        "    \n",
        "    print('cards:', cards)\n",
        "    print('query:', query)\n",
        "    \n",
        "    while True:\n",
        "        pass\n",
        "        #print('position:', position)\n",
        "\n",
        "        if cards[position] == query:\n",
        "          return position\n",
        "\n",
        "        position += 1\n",
        "        if position == len(cards):\n",
        "            return -1"
      ],
      "metadata": {
        "id": "GST_lpvL0YuC"
      },
      "execution_count": null,
      "outputs": []
    },
    {
      "cell_type": "markdown",
      "source": [
        "##Let's check the test cases we have prepared"
      ],
      "metadata": {
        "id": "np6QGEqONvu9"
      }
    },
    {
      "cell_type": "code",
      "source": [
        "#Here we cannot use .format() as is can only be used with strings not to print variables\n",
        "\n",
        "#If you can find a better approach plz feel free to contact me on Pulkitkhanna1@gmail.com\n",
        "\n",
        "print('case#1',)\n",
        "print(locate_card(cards1,query1))\n",
        "\n",
        "print() #to create an empty line\n",
        "print('case#2')\n",
        "locate_card(cards2,query2)\n",
        "\n",
        "print() #to create an empty line\n",
        "print('case#3')\n",
        "locate_card(cards3,query3)\n",
        "\n",
        "print() #to create an empty line\n",
        "print('case#4')\n",
        "locate_card(cards4,query4)\n",
        "\n",
        "print() #to create an empty line\n",
        "print('case#5')\n",
        "locate_card(cards5,query5)\n",
        "\n",
        "\n",
        "print() #to create an empty line\n",
        "print('case#6')\n",
        "locate_card(cards6,query6)\n",
        "\n",
        "print() #to create an empty line\n",
        "print('case#7')\n",
        "locate_card(cards7,query7)\n",
        "\n",
        "print() #to create an empty line\n",
        "print('case#8')\n",
        "locate_card(cards8,query8)\n",
        "\n",
        "for i in range(1,9):\n",
        "  print(locate_card(cards+'i',query+'i'))\n",
        "  \n"
      ],
      "metadata": {
        "id": "32vUq6uUzUmp",
        "colab": {
          "base_uri": "https://localhost:8080/"
        },
        "outputId": "b802196e-fc06-4a13-ae47-4d9141c1b3ca"
      },
      "execution_count": null,
      "outputs": [
        {
          "output_type": "stream",
          "name": "stdout",
          "text": [
            "case#1\n",
            "cards: [11, 10, 7, 4, 3, 1, 0]\n",
            "query: 4\n",
            "3\n",
            "\n",
            "case#2\n",
            "cards: [4, 2, 1, -1]\n",
            "query: 4\n",
            "\n",
            "case#3\n",
            "cards: ([4, 2, 1, -1, 6],)\n",
            "query: 6\n",
            "\n",
            "case#4\n",
            "cards: [6]\n",
            "query: 6\n",
            "\n",
            "case#5\n",
            "cards: [6, 4, 7, -1, 5]\n",
            "query: 3\n",
            "\n",
            "case#6\n",
            "cards: []\n",
            "query: 3\n",
            "\n",
            "case#7\n",
            "cards: ([6, 6, 4, 4, 4, 7, 3, 7, -1, 5, 0, 0],)\n",
            "query: 3\n",
            "\n",
            "case#8\n",
            "cards: [6, 6, 4, 4, 4, 7, 3, 7, -1, 5, 0, 0]\n",
            "query: 4\n"
          ]
        },
        {
          "output_type": "execute_result",
          "data": {
            "text/plain": [
              "2"
            ]
          },
          "metadata": {},
          "execution_count": 147
        }
      ]
    },
    {
      "cell_type": "code",
      "source": [
        "i=[]\n",
        "for i in range(1,9):\n",
        "  card=cards{}.format(i)\n",
        "  query=query{}.format(i)\n",
        "  print(card,query)\n",
        "  print(locate_card(card,query))\n",
        "  \n"
      ],
      "metadata": {
        "colab": {
          "base_uri": "https://localhost:8080/",
          "height": 137
        },
        "id": "O2E2w1oRbZui",
        "outputId": "45d78656-ac74-49da-c8a4-e58d4f87cdf3"
      },
      "execution_count": null,
      "outputs": [
        {
          "output_type": "error",
          "ename": "SyntaxError",
          "evalue": "ignored",
          "traceback": [
            "\u001b[0;36m  File \u001b[0;32m\"<ipython-input-164-4cac4bfa7ad0>\"\u001b[0;36m, line \u001b[0;32m3\u001b[0m\n\u001b[0;31m    card=cards{}.format(i)\u001b[0m\n\u001b[0m              ^\u001b[0m\n\u001b[0;31mSyntaxError\u001b[0m\u001b[0;31m:\u001b[0m invalid syntax\n"
          ]
        }
      ]
    },
    {
      "cell_type": "code",
      "source": [
        "\n",
        "tripples = [(cards1,query1), (cards2,query2)]\n",
        "for tripple in tripples:\n",
        "  print(tripple)\n",
        "  print(locate_card(*tripple))"
      ],
      "metadata": {
        "colab": {
          "base_uri": "https://localhost:8080/"
        },
        "id": "avQtK4b2dZ9n",
        "outputId": "5b66a70e-6acd-4934-ae3f-931269d23c73"
      },
      "execution_count": null,
      "outputs": [
        {
          "output_type": "stream",
          "name": "stdout",
          "text": [
            "([11, 10, 7, 4, 3, 1, 0], 4)\n",
            "cards: [11, 10, 7, 4, 3, 1, 0]\n",
            "query: 4\n",
            "3\n",
            "([4, 2, 1, -1], 4)\n",
            "cards: [4, 2, 1, -1]\n",
            "query: 4\n",
            "0\n"
          ]
        }
      ]
    },
    {
      "cell_type": "markdown",
      "source": [
        "# **But this function will not work with case 6**, so we modify our function accordingly (will comment out the change so that it can be compared)"
      ],
      "metadata": {
        "id": "chrkVYQBT7jA"
      }
    },
    {
      "cell_type": "code",
      "source": [
        "'''\n",
        "def locate_card(cards,query):\n",
        "\n",
        "  print('cards:', cards)\n",
        "  print('query:', query)\n",
        "\n",
        "  position=0\n",
        "  while position<len(cards):  \n",
        "    if cards[position] == query:\n",
        "      return position\n",
        "    position += 1 \n",
        "  return (-1)\n",
        "\n",
        "'''\n",
        "def locate_card(cards, query):\n",
        "  position = 0\n",
        "\n",
        "  print('cards:', cards)\n",
        "  print('query:', query)\n",
        "\n",
        "  while position < len(cards):\n",
        "    if cards[position] == query:\n",
        "      return position\n",
        "      print('ok')\n",
        "    position += 1\n",
        "  return -1\n"
      ],
      "metadata": {
        "id": "4WpgQwQvUWgm"
      },
      "execution_count": null,
      "outputs": []
    },
    {
      "cell_type": "code",
      "source": [
        "#Here we cannot use .format() as is can only be used with strings not to print variables\n",
        "\n",
        "#If you can find a better approach plz feel free to contact me on Pulkitkhanna1@gmail.com\n",
        "\n",
        "print('case#1',)\n",
        "print(locate_card(cards1,query1))\n",
        "\n",
        "print() #to create an empty line\n",
        "print('case#2')\n",
        "print(locate_card(cards2,query2))\n",
        "\n",
        "print() #to create an empty line\n",
        "print('case#3')\n",
        "print(locate_card(cards3,query3))\n",
        "\n",
        "print() #to create an empty line\n",
        "print('case#4')\n",
        "print(locate_card(cards4,query4))\n",
        "\n",
        "print() #to create an empty line\n",
        "print('case#5')\n",
        "print(locate_card(cards5,query5))\n",
        "\n",
        "print() #to create an empty line\n",
        "print('case#6')\n",
        "print(locate_card(cards6,query6))\n",
        "\n",
        "print() #to create an empty line\n",
        "print('case#7')\n",
        "print(locate_card(cards7,query7))\n",
        "\n",
        "print() #to create an empty line\n",
        "print('case#8')\n",
        "print(locate_card(cards8,query8))"
      ],
      "metadata": {
        "colab": {
          "base_uri": "https://localhost:8080/"
        },
        "id": "vzpqgYuUT7Ez",
        "outputId": "9d7e8276-f36a-43f9-bd2d-4573ab029c93"
      },
      "execution_count": null,
      "outputs": [
        {
          "output_type": "stream",
          "name": "stdout",
          "text": [
            "case#1\n",
            "cards: [11, 10, 7, 4, 3, 1, 0]\n",
            "query: 4\n",
            "3\n",
            "\n",
            "case#2\n",
            "cards: [4, 2, 1, -1]\n",
            "query: 4\n",
            "0\n",
            "\n",
            "case#3\n",
            "cards: ([4, 2, 1, -1, 6],)\n",
            "query: 6\n",
            "-1\n",
            "\n",
            "case#4\n",
            "cards: [6]\n",
            "query: 6\n",
            "0\n",
            "\n",
            "case#5\n",
            "cards: [6, 4, 7, -1, 5]\n",
            "query: 3\n",
            "-1\n",
            "\n",
            "case#6\n",
            "cards: []\n",
            "query: 3\n",
            "-1\n",
            "\n",
            "case#7\n",
            "cards: ([6, 6, 4, 4, 4, 7, 3, 7, -1, 5, 0, 0],)\n",
            "query: 3\n",
            "-1\n",
            "\n",
            "case#8\n",
            "cards: [6, 6, 4, 4, 4, 7, 3, 7, -1, 5, 0, 0]\n",
            "query: 4\n",
            "2\n"
          ]
        }
      ]
    }
  ]
}